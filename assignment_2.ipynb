{
 "cells": [
  {
   "cell_type": "code",
   "execution_count": 55,
   "metadata": {},
   "outputs": [],
   "source": [
    "import simpy\n",
    "import numpy as np\n",
    "import random\n",
    "import matplotlib.pyplot as plt\n",
    "import itertools"
   ]
  },
  {
   "cell_type": "markdown",
   "metadata": {},
   "source": [
    "2) Discrete Event Simulation"
   ]
  },
  {
   "cell_type": "code",
   "execution_count": 241,
   "metadata": {},
   "outputs": [],
   "source": [
    "def Queue(env, n_persons, average_arrival_time, servers, waiting_times_list, prints):\n",
    "    \"\"\"queue gets customers randomly\"\"\"\n",
    "    for i in range(n_persons):\n",
    "        person = Person(env, f'Person {i:02d}', servers, waiting_times_list, prints)\n",
    "        env.process(person)\n",
    "        arrival_time = random.expovariate(1.0 / average_arrival_time) # Markov?\n",
    "        yield env.timeout(arrival_time)\n",
    "\n",
    "def Person(env, name, servers, waiting_times_list, prints, average_serving_time=10):\n",
    "    \"\"\"People arrive, wait in queue, is served and leaves.\"\"\"\n",
    "    arrive = env.now\n",
    "    if prints:\n",
    "        print(f'{arrive:7.4f} {name} arrived')\n",
    "\n",
    "    with servers.request() as req:\n",
    "        # Wait for a server\n",
    "        yield req \n",
    "\n",
    "        wait = env.now - arrive\n",
    "        waiting_times_list.append(wait)\n",
    "        if prints:\n",
    "            print(f'{env.now:7.4f} {name} waited {wait:6.3f}')\n",
    "\n",
    "\n",
    "        serving_time = random.expovariate(1.0 / average_serving_time)\n",
    "        yield env.timeout(serving_time)\n",
    "        if prints:\n",
    "            print(f'{env.now:7.4f} {name} left')  \n",
    "\n",
    "def run_simulation(average_arrival_rate, n, mu, n_persons, waiting_times_list, print=False):\n",
    "    env = simpy.Environment()\n",
    "\n",
    "    # Start\n",
    "    servers = simpy.Resource(env, capacity=n*mu)\n",
    "    env.process(Queue(env, n_persons, average_arrival_rate, servers, waiting_times_list, print))\n",
    "    env.run()\n",
    "\n",
    "    # Print the list of waiting times\n",
    "    return waiting_times_list\n"
   ]
  },
  {
   "cell_type": "code",
   "execution_count": 246,
   "metadata": {},
   "outputs": [
    {
     "name": "stdout",
     "output_type": "stream",
     "text": [
      "System load 1 server: 5.0\n",
      "System load 2 servers: 2.5\n",
      "System load 4 servers: 1.25\n"
     ]
    },
    {
     "data": {
      "image/png": "[encoded data removed]",
      "text/plain": [
       "<Figure size 640x480 with 1 Axes>"
      ]
     },
     "metadata": {},
     "output_type": "display_data"
    }
   ],
   "source": [
    "np.random.seed(3)\n",
    "\n",
    "# λ – the arrival rate into the system as a whole.\n",
    "# interval customers\n",
    "arrival_rate = 5\n",
    "\n",
    "# μ – the capacity of each of n equal servers. \n",
    "mu = 1\n",
    "\n",
    "# ρ represents the system load. ρ=λ/(n*capacity). \n",
    "print(f\"System load 1 server: {arrival_rate/(1*mu)}\")\n",
    "print(f\"System load 2 servers: {arrival_rate/(2*mu)}\")\n",
    "print(f\"System load 4 servers: {arrival_rate/(4*mu)}\")\n",
    "\n",
    "# Number of people in simulation\n",
    "n_persons = 50\n",
    "\n",
    "# Waiting times\n",
    "waiting_times_n1 = []\n",
    "waiting_times_n2 = []\n",
    "waiting_times_n4 = []\n",
    "\n",
    "\n",
    "for runs in range(50):\n",
    "    run_simulation(arrival_rate, 1, mu, n_persons, waiting_times_n1)\n",
    "    run_simulation(arrival_rate, 2, mu, n_persons, waiting_times_n2)\n",
    "    run_simulation(arrival_rate, 4, mu, n_persons, waiting_times_n4)\n",
    "\n",
    "\n",
    "# Create positions for boxplots\n",
    "positions = [1, 2, 3]\n",
    "# Create a boxplot\n",
    "plt.boxplot([waiting_times_n1,waiting_times_n2,waiting_times_n4], positions=positions)\n",
    "plt.title('Boxplots of Waiting Times')\n",
    "plt.xlabel('Dataset')\n",
    "plt.ylabel('Waiting Time')\n",
    "plt.xticks(positions, ['1 servers', '2 servers', '4 servers'])\n",
    "\n",
    "# Show the plot\n",
    "plt.show()"
   ]
  },
  {
   "cell_type": "code",
   "execution_count": null,
   "metadata": {},
   "outputs": [],
   "source": []
  }
 ],
 "metadata": {
  "kernelspec": {
   "display_name": "Python 3",
   "language": "python",
   "name": "python3"
  },
  "language_info": {
   "codemirror_mode": {
    "name": "ipython",
    "version": 3
   },
   "file_extension": ".py",
   "mimetype": "text/x-python",
   "name": "python",
   "nbconvert_exporter": "python",
   "pygments_lexer": "ipython3",
   "version": "3.11.5"
  }
 },
 "nbformat": 4,
 "nbformat_minor": 2
}
