{
 "cells": [
  {
   "cell_type": "code",
   "execution_count": 4,
   "metadata": {},
   "outputs": [],
   "source": [
    "import simpy\n",
    "import numpy as np\n",
    "\n",
    "import itertools"
   ]
  },
  {
   "cell_type": "markdown",
   "metadata": {},
   "source": [
    "2) Discrete Event Simulation"
   ]
  },
  {
   "cell_type": "code",
   "execution_count": 17,
   "metadata": {},
   "outputs": [
    {
     "name": "stdout",
     "output_type": "stream",
     "text": [
      "Person 0\n",
      "Person 1\n",
      "Person 2\n",
      "Person 3\n",
      "Person 4\n",
      "Person 5\n",
      "Person 6\n",
      "Person 7\n",
      "Person 8\n"
     ]
    }
   ],
   "source": [
    "# https://simpy.readthedocs.io/en/latest/examples/carwash.html\n",
    "np.random.seed(3)\n",
    "\n",
    "# λ – the arrival rate into the system as a whole.\n",
    "arrival_rate = 0.5\n",
    "\n",
    "# μ – the capacity of each of n equal servers. \n",
    "capacity = 1\n",
    "\n",
    "# ρ represents the system load. ρ=λ/(nμ). \n",
    "\n",
    "# Simulation time\n",
    "sim_time = 10\n",
    "\n",
    "\n",
    "wait_times_n1 = []\n",
    "wait_times_n2 = []\n",
    "wait_times_n4 = []\n",
    "\n",
    "\n",
    "class Queue: \n",
    "    def __init__(self, env, n_servers, serving_time):\n",
    "        self.env = env\n",
    "        self.servers = simpy.Resource(env, n_servers)\n",
    "        self.serving_time = serving_time\n",
    "\n",
    "    def serving(self, person):\n",
    "        yield self.env.timeout(self.serving_time)\n",
    "        print(person)\n",
    "\n",
    "def person(env, name, queue):\n",
    "    with queue.servers.request() as request:\n",
    "        yield request\n",
    "\n",
    "        yield env.process(queue.serving(name))\n",
    "\n",
    "def setup(env, n_servers, serving_time, arrival_rate):\n",
    "    waiting = Queue(env, n_servers, serving_time)\n",
    "\n",
    "    person_count = itertools.count()\n",
    "\n",
    "    # Create 1 initial person\n",
    "    env.process(person(env, f'Person {next(person_count)}', waiting))\n",
    "\n",
    "    # Create more cars while the simulation is running\n",
    "    while True:\n",
    "        yield env.timeout(arrival_rate)\n",
    "        env.process(person(env, f'Person {next(person_count)}', waiting))\n",
    "\n",
    "\n",
    "\n",
    "env = simpy.Environment()\n",
    "env.process(setup(env, 1, 1, 1))\n",
    "\n",
    "# Execute!\n",
    "env.run(until=10)\n"
   ]
  },
  {
   "cell_type": "code",
   "execution_count": null,
   "metadata": {},
   "outputs": [],
   "source": []
  }
 ],
 "metadata": {
  "kernelspec": {
   "display_name": "Python 3",
   "language": "python",
   "name": "python3"
  },
  "language_info": {
   "codemirror_mode": {
    "name": "ipython",
    "version": 3
   },
   "file_extension": ".py",
   "mimetype": "text/x-python",
   "name": "python",
   "nbconvert_exporter": "python",
   "pygments_lexer": "ipython3",
   "version": "3.11.5"
  }
 },
 "nbformat": 4,
 "nbformat_minor": 2
}
