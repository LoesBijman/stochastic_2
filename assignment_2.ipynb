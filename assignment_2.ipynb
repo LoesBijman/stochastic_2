{
 "cells": [
  {
   "cell_type": "code",
   "execution_count": 2,
   "metadata": {},
   "outputs": [],
   "source": [
    "import simpy\n",
    "import numpy as np\n",
    "import random\n",
    "import matplotlib.pyplot as plt\n",
    "import scipy.stats as st"
   ]
  },
  {
   "cell_type": "markdown",
   "metadata": {},
   "source": [
    "2) Discrete Event Simulation"
   ]
  },
  {
   "cell_type": "markdown",
   "metadata": {},
   "source": [
    "**DES code**:"
   ]
  },
  {
   "cell_type": "code",
   "execution_count": 3,
   "metadata": {},
   "outputs": [],
   "source": [
    "class Queue:\n",
    "    def __init__(self,env,n_servers,rho,mu,scheduling_type = 'FIFO', service_distribution=\"M\"):\n",
    "        self.env = env\n",
    "        self.scheduling_type = scheduling_type\n",
    "        self.mu = mu\n",
    "        self.rho = rho\n",
    "        self.lambd = rho*(n_servers*mu)\n",
    "        self.cust = 0\n",
    "        self.arrival_time = 0\n",
    "        self.service_start_time = 0\n",
    "        self.service_distribution = service_distribution\n",
    "\n",
    "        if scheduling_type == 'FIFO':\n",
    "            self.server = simpy.Resource(env, capacity=n_servers)\n",
    "        elif scheduling_type == 'SJF':\n",
    "            self.server = simpy.PriorityResource(env,capacity=n_servers)\n",
    "\n",
    "    def HyperVariate(self,p, m1, m2):\n",
    "        rand = np.random.uniform()\n",
    "        if rand < p:\n",
    "            return random.expovariate(1.0 / m1)\n",
    "        else:\n",
    "            return random.expovariate(1.0 / m2)\n",
    "\n",
    "    def arrive(self, n_customers,wait_times_list):\n",
    "        while self.cust < n_customers:\n",
    "            yield self.env.timeout(random.expovariate(self.lambd))\n",
    "            self.cust+=1\n",
    "            self.env.process(self.service(wait_times_list))\n",
    "    \n",
    "    def service(self, wait_times_list):\n",
    "        if self.service_distribution == \"M\":\n",
    "            serving_time = random.expovariate(self.mu) \n",
    "\n",
    "        elif self.service_distribution == \"D\":\n",
    "            serving_time = 1/self.mu\n",
    "        \n",
    "        elif self.service_distribution == \"H\":\n",
    "            serving_time = self.HyperVariate(0.75, 1, 5)\n",
    "\n",
    "        else:\n",
    "            raise ValueError(\"invalid distribution\")\n",
    "\n",
    "        self.arrival_time = self.env.now\n",
    "\n",
    "        if self.scheduling_type == 'FIFO':\n",
    "            with self.server.request() as req:\n",
    "                yield req\n",
    "                self.service_start_time = self.env.now\n",
    "                wait_times_list.append(self.service_start_time - self.arrival_time)\n",
    "                yield self.env.timeout(serving_time)\n",
    "\n",
    "        elif self.scheduling_type == 'SJF':\n",
    "            with self.server.request(priority = serving_time) as req:\n",
    "                yield req\n",
    "                self.service_start_time = self.env.now\n",
    "                wait_times_list.append(self.service_start_time - self.arrival_time)\n",
    "                yield self.env.timeout(serving_time)\n",
    "    \n",
    "    def run_sim(self, n_customers):\n",
    "        wait_times_list = []\n",
    "        self.env.process(self.arrive(n_customers, wait_times_list))\n",
    "        self.env.run()\n",
    "        return wait_times_list\n",
    "        "
   ]
  },
  {
   "cell_type": "markdown",
   "metadata": {},
   "source": [
    "**Functions:**"
   ]
  },
  {
   "cell_type": "code",
   "execution_count": 4,
   "metadata": {},
   "outputs": [],
   "source": [
    "def plot_conf_95(waiting_times):\n",
    "    mean = np.mean(waiting_times)\n",
    "    \n",
    "    confidence_interval =st.t.interval(confidence=0.95, df=len(waiting_times)-1, loc=mean, scale=st.sem(waiting_times))\n",
    "    yerr = np.array([[confidence_interval[0], confidence_interval[1]]])\n",
    "    return mean, yerr"
   ]
  },
  {
   "cell_type": "markdown",
   "metadata": {},
   "source": [
    "**Opdracht 2: n=1,2,4 en 3: SJF**"
   ]
  },
  {
   "cell_type": "code",
   "execution_count": 5,
   "metadata": {},
   "outputs": [],
   "source": [
    "random.seed(3)\n",
    "runs = 1000\n",
    "n_customers = 500\n",
    "rho = 0.8\n",
    "mu = 1/2\n",
    "\n",
    "env = simpy.Environment()\n",
    "\n",
    "wait_total_n1 = []\n",
    "wait_total_n2 = []\n",
    "wait_total_n4 = []\n",
    "\n",
    "wait_total_n1_sjf = []\n",
    "wait_total_n2_sjf = []\n",
    "wait_total_n4_sjf = []\n",
    "for i in range(runs):\n",
    "    MM1queue_fifo = Queue(env,1,rho,mu)\n",
    "    MM2queue_fifo = Queue(env,2,rho,mu)\n",
    "    MM4queue_fifo = Queue(env,4,rho,mu)\n",
    "    \n",
    "    wait_total_n1.extend(MM1queue_fifo.run_sim(n_customers))\n",
    "    wait_total_n2.extend(MM2queue_fifo.run_sim(n_customers))\n",
    "    wait_total_n4.extend(MM4queue_fifo.run_sim(n_customers))\n",
    "\n",
    "    MM1queue_sjf = Queue(env,1,rho,mu, scheduling_type='SJF')\n",
    "    MM2queue_sjf = Queue(env,2,rho,mu, scheduling_type='SJF')\n",
    "    MM4queue_sjf = Queue(env,4,rho,mu, scheduling_type='SJF')\n",
    "    \n",
    "    wait_total_n1_sjf.extend(MM1queue_sjf.run_sim(n_customers))\n",
    "    wait_total_n2_sjf.extend(MM2queue_sjf.run_sim(n_customers))\n",
    "    wait_total_n4_sjf.extend(MM4queue_sjf.run_sim(n_customers))\n"
   ]
  },
  {
   "cell_type": "markdown",
   "metadata": {},
   "source": [
    "Code for comparing rho's"
   ]
  },
  {
   "cell_type": "code",
   "execution_count": 29,
   "metadata": {},
   "outputs": [],
   "source": [
    "# compare for different values of rho\n",
    "random.seed(3)\n",
    "runs = 1000\n",
    "n_customers = 500\n",
    "mu = 1/2\n",
    "\n",
    "env = simpy.Environment()\n",
    "rhos_list = np.linspace(0.2,0.95,10)\n",
    "\n",
    "def waiting_times_of_rhos(rhos_list, servers):\n",
    "    waiting_times_of_rhos = []\n",
    "    for rho in rhos_list:\n",
    "        rho_temp_list = []\n",
    "        for _ in range(runs):\n",
    "            MM1queue_rho = Queue(env,servers,rho,mu)\n",
    "            rho_temp_list.extend(MM1queue_rho.run_sim(n_customers)) # take the mean here? only append mean? or do we not want to lose data?\n",
    "\n",
    "        waiting_times_of_rhos.append(rho_temp_list)\n",
    "    return np.array(waiting_times_of_rhos)\n",
    "\n",
    "waiting_times_of_rhos_n1 = waiting_times_of_rhos(rhos_list, 1)\n",
    "waiting_times_of_rhos_n2 = waiting_times_of_rhos(rhos_list, 2)\n",
    "waiting_times_of_rhos_n4 = waiting_times_of_rhos(rhos_list, 4)\n"
   ]
  },
  {
   "cell_type": "code",
   "execution_count": 30,
   "metadata": {},
   "outputs": [
    {
     "data": {
      "image/png": "[encoded data removed]",
      "text/plain": [
       "<Figure size 640x480 with 1 Axes>"
      ]
     },
     "metadata": {},
     "output_type": "display_data"
    }
   ],
   "source": [
    "def rho_errorbars(waiting_times_of_rhos,rhos_list, color, label):\n",
    "    means = []\n",
    "    cis = []\n",
    "    for waiting_times_run in waiting_times_of_rhos:\n",
    "        mean, yerr = plot_conf_95(waiting_times_run)\n",
    "        means.append(mean)\n",
    "        cis.append(yerr)\n",
    "    # for i in range(len(means)):\n",
    "    #     plt.errorbar(x=rhos_list[i], y=means[i], yerr=np.array(cis[i]).T, fmt='o', capsize=5, color = color)\n",
    "    plt.plot(rhos_list, means, color = color, label = label)\n",
    "    plt.fill_between(rhos_list, means-np.array(cis)[:, 0, 0], means+np.array(cis)[:, 0, 1], color = color, alpha = 0.2)\n",
    "\n",
    "rho_errorbars(waiting_times_of_rhos_n1, rhos_list, 'red', 'n = 1')\n",
    "rho_errorbars(waiting_times_of_rhos_n2, rhos_list, 'green', 'n = 2')\n",
    "rho_errorbars(waiting_times_of_rhos_n4, rhos_list, 'blue', 'n = 4')\n",
    "plt.legend()\n",
    "plt.show()"
   ]
  },
  {
   "cell_type": "code",
   "execution_count": null,
   "metadata": {},
   "outputs": [
    {
     "data": {
      "image/png": "[encoded data removed]",
      "text/plain": [
       "<Figure size 640x480 with 1 Axes>"
      ]
     },
     "metadata": {},
     "output_type": "display_data"
    }
   ],
   "source": [
    "m1, yerr1 = plot_conf_95(wait_total_n1)\n",
    "m2, yerr2 = plot_conf_95(wait_total_n2)\n",
    "m4, yerr4 = plot_conf_95(wait_total_n4)\n",
    "\n",
    "m1_sjf, yerr1_sjf = plot_conf_95(wait_total_n1_sjf)\n",
    "m2_sjf, yerr2_sjf = plot_conf_95(wait_total_n2_sjf)\n",
    "m4_sjf, yerr4_sjf = plot_conf_95(wait_total_n4_sjf)\n",
    "\n",
    "plt.errorbar(x=1-0.16, y=m1, yerr=yerr1.T, fmt='o', capsize=5, label='FIFO', color = 'red')\n",
    "plt.errorbar(x=1+0.16, y=m1_sjf, yerr=yerr1_sjf.T, fmt='o', capsize=5, label='SJF', color = 'green')\n",
    "\n",
    "plt.errorbar(x=2-0.16, y=m2, yerr=yerr2.T, fmt='o', capsize=5,color = 'red')\n",
    "plt.errorbar(x=2+0.16, y=m2_sjf, yerr=yerr2_sjf.T, fmt='o', capsize=5,color = 'green')\n",
    "\n",
    "plt.errorbar(x=3-0.16, y=m4, yerr=yerr4.T, fmt='o', capsize=5,color = 'red')\n",
    "plt.errorbar(x=3+0.16, y=m4_sjf, yerr=yerr4_sjf.T, fmt='o', capsize=5,color = 'green')\n",
    "\n",
    "plt.xticks([1, 2, 3], ['waiting_times_n1', 'waiting_times_n2', 'waiting_times_n4'])\n",
    "plt.legend()\n",
    "plt.show()"
   ]
  },
  {
   "cell_type": "code",
   "execution_count": null,
   "metadata": {},
   "outputs": [
    {
     "name": "stdout",
     "output_type": "stream",
     "text": [
      "For a queue with in total 50 people that get in the queue with system load 0.8999999999999999 for 100 days:\n",
      "the mean waiting time was 1.6377590520500607, with a standard deviation of 2.26352371250653\n",
      "the mean waiting time was 0.7273675987929226, with a standard deviation of 1.0926169495225986\n",
      "the mean waiting time was 0.2989505460756179, with a standard deviation of 0.5069620817711834\n",
      "the mean waiting time sjf was 1.318021046582416, with a standard deviation of 1.6183854465546543\n",
      "the mean waiting time sjf was 0.6048065647156785, with a standard deviation of 0.8177237196001762\n",
      "the mean waiting time sjf was 0.25602494178487456, with a standard deviation of 0.4021811340341739\n"
     ]
    }
   ],
   "source": [
    "print(f\"For a queue with in total {n_customers} people that get in the queue with system load {rho} for {runs} days:\")\n",
    "print(f\"the mean waiting time was {np.mean(wait_total_n1)}, with a standard deviation of {np.std(wait_total_n1)}\")\n",
    "print(f\"the mean waiting time was {np.mean(wait_total_n2)}, with a standard deviation of {np.std(wait_total_n2)}\")\n",
    "print(f\"the mean waiting time was {np.mean(wait_total_n4)}, with a standard deviation of {np.std(wait_total_n4)}\")\n",
    "\n",
    "print(f\"the mean waiting time sjf was {np.mean(wait_total_n1_sjf )}, with a standard deviation of {np.std(wait_total_n1_sjf )}\")\n",
    "print(f\"the mean waiting time sjf was {np.mean(wait_total_n2_sjf )}, with a standard deviation of {np.std(wait_total_n2_sjf )}\")\n",
    "print(f\"the mean waiting time sjf was {np.mean(wait_total_n4_sjf )}, with a standard deviation of {np.std(wait_total_n4_sjf )}\")\n"
   ]
  },
  {
   "cell_type": "markdown",
   "metadata": {},
   "source": [
    "opdracht 3: plot waiting times against number of customers with 4 servers"
   ]
  },
  {
   "cell_type": "code",
   "execution_count": null,
   "metadata": {},
   "outputs": [],
   "source": [
    "random.seed(3)\n",
    "runs = 10\n",
    "n_customers = 5\n",
    "rho = 0.8\n",
    "mu = 1/2\n",
    "\n",
    "env = simpy.Environment()\n",
    "\n",
    "\n",
    "waiting_times = []\n",
    "\n",
    "waiting_times_sjf = []\n",
    "for i in range(runs):\n",
    "    MM4queue_fifo = Queue(env,4,rho,mu)\n",
    "\n",
    "    waiting_times.append(MM4queue_fifo.run_sim(n_customers))\n",
    "\n",
    "    MM4queue_sjf = Queue(env,4,rho,mu, scheduling_type='SJF')\n",
    "\n",
    "    waiting_times_sjf.append(MM4queue_sjf.run_sim(n_customers))"
   ]
  },
  {
   "cell_type": "markdown",
   "metadata": {},
   "source": [
    "**Opdracht 4**"
   ]
  },
  {
   "cell_type": "code",
   "execution_count": null,
   "metadata": {},
   "outputs": [],
   "source": [
    "random.seed(3)\n",
    "runs = 100\n",
    "n_customers = 50\n",
    "rho = 0.8\n",
    "mu = 1/2\n",
    "\n",
    "env = simpy.Environment()\n",
    "\n",
    "wait_total_n1_Det = []\n",
    "wait_total_n2_Det = []\n",
    "wait_total_n4_Det = []\n",
    "\n",
    "wait_total_n1_Hexp = []\n",
    "wait_total_n2_Hexp = []\n",
    "wait_total_n4_Hexp = []\n",
    "\n",
    "\n",
    "for i in range(runs):\n",
    "    MD1queue_fifo = Queue(env,1,rho,mu, service_distribution=\"D\")\n",
    "    MD2queue_fifo = Queue(env,2,rho,mu, service_distribution=\"D\")\n",
    "    MD4queue_fifo = Queue(env,4,rho,mu, service_distribution=\"D\")\n",
    "    \n",
    "    wait_total_n1_Det.extend(MD1queue_fifo.run_sim(n_customers))\n",
    "    wait_total_n2_Det.extend(MD2queue_fifo.run_sim(n_customers))\n",
    "    wait_total_n4_Det.extend(MD4queue_fifo.run_sim(n_customers))\n",
    "\n",
    "    MH1queue_fifo = Queue(env,1,rho,mu, service_distribution=\"H\")\n",
    "    MH2queue_fifo = Queue(env,2,rho,mu, service_distribution=\"H\")\n",
    "    MH4queue_fifo = Queue(env,4,rho,mu, service_distribution=\"H\")\n",
    "    \n",
    "    wait_total_n1_Hexp.extend(MH1queue_fifo.run_sim(n_customers))\n",
    "    wait_total_n2_Hexp.extend(MH2queue_fifo.run_sim(n_customers))\n",
    "    wait_total_n4_Hexp.extend(MH4queue_fifo.run_sim(n_customers))\n",
    "\n",
    "\n"
   ]
  },
  {
   "cell_type": "code",
   "execution_count": null,
   "metadata": {},
   "outputs": [
    {
     "data": {
      "image/png": "[encoded data removed]",
      "text/plain": [
       "<Figure size 640x480 with 1 Axes>"
      ]
     },
     "metadata": {},
     "output_type": "display_data"
    }
   ],
   "source": [
    "m1, yerr1 = plot_conf_95(wait_total_n1)\n",
    "m2, yerr2 = plot_conf_95(wait_total_n2)\n",
    "m4, yerr4 = plot_conf_95(wait_total_n4)\n",
    "\n",
    "m1_sjf, yerr1_sjf = plot_conf_95(wait_total_n1_sjf)\n",
    "m2_sjf, yerr2_sjf = plot_conf_95(wait_total_n2_sjf)\n",
    "m4_sjf, yerr4_sjf = plot_conf_95(wait_total_n4_sjf)\n",
    "\n",
    "m1_Det, yerr1_Det = plot_conf_95(wait_total_n1_Det)\n",
    "m2_Det, yerr2_Det = plot_conf_95(wait_total_n2_Det)\n",
    "m4_Det, yerr4_Det = plot_conf_95(wait_total_n4_Det)\n",
    "\n",
    "m1_Hexp, yerr1_Hexp = plot_conf_95(wait_total_n1_Hexp)\n",
    "m2_Hexp, yerr2_Hexp = plot_conf_95(wait_total_n2_Hexp)\n",
    "m4_Hexp, yerr4_Hexp = plot_conf_95(wait_total_n4_Hexp)\n",
    "\n",
    "plt.errorbar(x=1-0.16, y=m1, yerr=yerr1.T, fmt='o', capsize=5, label='Markov', color = 'red')\n",
    "plt.errorbar(x=1, y=m1_Det, yerr=yerr1_Det.T, fmt='o', capsize=5, label='Deterministic', color = 'blueviolet')\n",
    "plt.errorbar(x=1+0.16, y=m1_Hexp, yerr=yerr1_Hexp.T, fmt='o', capsize=5, label='Hyperexponential', color = 'orange')\n",
    "\n",
    "plt.errorbar(x=2-0.16, y=m2, yerr=yerr2.T, fmt='o', capsize=5,color = 'red')\n",
    "plt.errorbar(x=2, y=m2_Det, yerr=yerr2_Det.T, fmt='o', capsize=5,color = 'blueviolet')\n",
    "plt.errorbar(x=2+0.16, y=m2_Hexp, yerr=yerr2_Hexp.T, fmt='o', capsize=5,color = 'orange')\n",
    "\n",
    "plt.errorbar(x=3-0.16, y=m4, yerr=yerr4.T, fmt='o', capsize=5,color = 'red')\n",
    "plt.errorbar(x=3, y=m4_Det, yerr=yerr4_Det.T, fmt='o', capsize=5,color = 'blueviolet')\n",
    "plt.errorbar(x=3+0.16, y=m4_Hexp, yerr=yerr4_Hexp.T, fmt='o', capsize=5,color = 'orange')\n",
    "\n",
    "plt.xticks([1, 2, 3], ['1 server', '2 servers', '4 servers'])\n",
    "plt.legend(title=\"Service time:\")\n",
    "plt.show()"
   ]
  }
 ],
 "metadata": {
  "kernelspec": {
   "display_name": "Python 3",
   "language": "python",
   "name": "python3"
  },
  "language_info": {
   "codemirror_mode": {
    "name": "ipython",
    "version": 3
   },
   "file_extension": ".py",
   "mimetype": "text/x-python",
   "name": "python",
   "nbconvert_exporter": "python",
   "pygments_lexer": "ipython3",
   "version": "3.12.0"
  }
 },
 "nbformat": 4,
 "nbformat_minor": 2
}
